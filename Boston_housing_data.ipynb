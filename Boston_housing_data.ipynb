{
 "cells": [
  {
   "cell_type": "code",
   "execution_count": 1,
   "metadata": {},
   "outputs": [
    {
     "name": "stderr",
     "output_type": "stream",
     "text": [
      "C:\\Users\\rache\\anaconda3\\envs\\PythonData\\lib\\site-packages\\tensorflow\\python\\framework\\dtypes.py:516: FutureWarning: Passing (type, 1) or '1type' as a synonym of type is deprecated; in a future version of numpy, it will be understood as (type, (1,)) / '(1,)type'.\n",
      "  _np_qint8 = np.dtype([(\"qint8\", np.int8, 1)])\n",
      "C:\\Users\\rache\\anaconda3\\envs\\PythonData\\lib\\site-packages\\tensorflow\\python\\framework\\dtypes.py:517: FutureWarning: Passing (type, 1) or '1type' as a synonym of type is deprecated; in a future version of numpy, it will be understood as (type, (1,)) / '(1,)type'.\n",
      "  _np_quint8 = np.dtype([(\"quint8\", np.uint8, 1)])\n",
      "C:\\Users\\rache\\anaconda3\\envs\\PythonData\\lib\\site-packages\\tensorflow\\python\\framework\\dtypes.py:518: FutureWarning: Passing (type, 1) or '1type' as a synonym of type is deprecated; in a future version of numpy, it will be understood as (type, (1,)) / '(1,)type'.\n",
      "  _np_qint16 = np.dtype([(\"qint16\", np.int16, 1)])\n",
      "C:\\Users\\rache\\anaconda3\\envs\\PythonData\\lib\\site-packages\\tensorflow\\python\\framework\\dtypes.py:519: FutureWarning: Passing (type, 1) or '1type' as a synonym of type is deprecated; in a future version of numpy, it will be understood as (type, (1,)) / '(1,)type'.\n",
      "  _np_quint16 = np.dtype([(\"quint16\", np.uint16, 1)])\n",
      "C:\\Users\\rache\\anaconda3\\envs\\PythonData\\lib\\site-packages\\tensorflow\\python\\framework\\dtypes.py:520: FutureWarning: Passing (type, 1) or '1type' as a synonym of type is deprecated; in a future version of numpy, it will be understood as (type, (1,)) / '(1,)type'.\n",
      "  _np_qint32 = np.dtype([(\"qint32\", np.int32, 1)])\n",
      "C:\\Users\\rache\\anaconda3\\envs\\PythonData\\lib\\site-packages\\tensorflow\\python\\framework\\dtypes.py:525: FutureWarning: Passing (type, 1) or '1type' as a synonym of type is deprecated; in a future version of numpy, it will be understood as (type, (1,)) / '(1,)type'.\n",
      "  np_resource = np.dtype([(\"resource\", np.ubyte, 1)])\n",
      "C:\\Users\\rache\\anaconda3\\envs\\PythonData\\lib\\site-packages\\tensorboard\\compat\\tensorflow_stub\\dtypes.py:541: FutureWarning: Passing (type, 1) or '1type' as a synonym of type is deprecated; in a future version of numpy, it will be understood as (type, (1,)) / '(1,)type'.\n",
      "  _np_qint8 = np.dtype([(\"qint8\", np.int8, 1)])\n",
      "C:\\Users\\rache\\anaconda3\\envs\\PythonData\\lib\\site-packages\\tensorboard\\compat\\tensorflow_stub\\dtypes.py:542: FutureWarning: Passing (type, 1) or '1type' as a synonym of type is deprecated; in a future version of numpy, it will be understood as (type, (1,)) / '(1,)type'.\n",
      "  _np_quint8 = np.dtype([(\"quint8\", np.uint8, 1)])\n",
      "C:\\Users\\rache\\anaconda3\\envs\\PythonData\\lib\\site-packages\\tensorboard\\compat\\tensorflow_stub\\dtypes.py:543: FutureWarning: Passing (type, 1) or '1type' as a synonym of type is deprecated; in a future version of numpy, it will be understood as (type, (1,)) / '(1,)type'.\n",
      "  _np_qint16 = np.dtype([(\"qint16\", np.int16, 1)])\n",
      "C:\\Users\\rache\\anaconda3\\envs\\PythonData\\lib\\site-packages\\tensorboard\\compat\\tensorflow_stub\\dtypes.py:544: FutureWarning: Passing (type, 1) or '1type' as a synonym of type is deprecated; in a future version of numpy, it will be understood as (type, (1,)) / '(1,)type'.\n",
      "  _np_quint16 = np.dtype([(\"quint16\", np.uint16, 1)])\n",
      "C:\\Users\\rache\\anaconda3\\envs\\PythonData\\lib\\site-packages\\tensorboard\\compat\\tensorflow_stub\\dtypes.py:545: FutureWarning: Passing (type, 1) or '1type' as a synonym of type is deprecated; in a future version of numpy, it will be understood as (type, (1,)) / '(1,)type'.\n",
      "  _np_qint32 = np.dtype([(\"qint32\", np.int32, 1)])\n",
      "C:\\Users\\rache\\anaconda3\\envs\\PythonData\\lib\\site-packages\\tensorboard\\compat\\tensorflow_stub\\dtypes.py:550: FutureWarning: Passing (type, 1) or '1type' as a synonym of type is deprecated; in a future version of numpy, it will be understood as (type, (1,)) / '(1,)type'.\n",
      "  np_resource = np.dtype([(\"resource\", np.ubyte, 1)])\n",
      "Using TensorFlow backend.\n"
     ]
    }
   ],
   "source": [
    "# Dependencies\n",
    "\n",
    "import pandas as pd\n",
    "import numpy as np\n",
    "import matplotlib.pyplot as plt\n",
    "import seaborn as sns\n",
    "import tensorflow as tf\n",
    "from tensorflow import keras\n",
    "from sklearn.datasets import make_regression\n",
    "from sklearn.model_selection import train_test_split\n",
    "from sklearn.metrics import mean_squared_error\n",
    "from math import sqrt\n",
    "from sklearn.metrics import r2_score\n",
    "\n",
    "# Keras specific\n",
    "import keras\n",
    "from keras.models import Sequential\n",
    "from keras.layers import Dense\n",
    "from sklearn.linear_model import LinearRegression"
   ]
  },
  {
   "cell_type": "code",
   "execution_count": 2,
   "metadata": {},
   "outputs": [],
   "source": [
    "# Read csv using pandas. We should specify the column index to avoid mislabelling problems when data is uploaded\n",
    "data=pd.read_csv('data/housingdata.csv',index_col=False)"
   ]
  },
  {
   "cell_type": "code",
   "execution_count": 3,
   "metadata": {},
   "outputs": [
    {
     "data": {
      "text/html": [
       "<div>\n",
       "<style scoped>\n",
       "    .dataframe tbody tr th:only-of-type {\n",
       "        vertical-align: middle;\n",
       "    }\n",
       "\n",
       "    .dataframe tbody tr th {\n",
       "        vertical-align: top;\n",
       "    }\n",
       "\n",
       "    .dataframe thead th {\n",
       "        text-align: right;\n",
       "    }\n",
       "</style>\n",
       "<table border=\"1\" class=\"dataframe\">\n",
       "  <thead>\n",
       "    <tr style=\"text-align: right;\">\n",
       "      <th></th>\n",
       "      <th>CRIM</th>\n",
       "      <th>ZN</th>\n",
       "      <th>INDUS</th>\n",
       "      <th>CHAS</th>\n",
       "      <th>NOX</th>\n",
       "      <th>RM</th>\n",
       "      <th>AGE</th>\n",
       "      <th>DIS</th>\n",
       "      <th>RAD</th>\n",
       "      <th>TAX</th>\n",
       "      <th>PTRATIO</th>\n",
       "      <th>B</th>\n",
       "      <th>LSTAT</th>\n",
       "      <th>MEDV</th>\n",
       "    </tr>\n",
       "  </thead>\n",
       "  <tbody>\n",
       "    <tr>\n",
       "      <th>0</th>\n",
       "      <td>0.00632</td>\n",
       "      <td>18.0</td>\n",
       "      <td>2.31</td>\n",
       "      <td>0.0</td>\n",
       "      <td>0.538</td>\n",
       "      <td>6.575</td>\n",
       "      <td>65.2</td>\n",
       "      <td>4.0900</td>\n",
       "      <td>1</td>\n",
       "      <td>296</td>\n",
       "      <td>15.3</td>\n",
       "      <td>396.90</td>\n",
       "      <td>4.98</td>\n",
       "      <td>24.0</td>\n",
       "    </tr>\n",
       "    <tr>\n",
       "      <th>1</th>\n",
       "      <td>0.02731</td>\n",
       "      <td>0.0</td>\n",
       "      <td>7.07</td>\n",
       "      <td>0.0</td>\n",
       "      <td>0.469</td>\n",
       "      <td>6.421</td>\n",
       "      <td>78.9</td>\n",
       "      <td>4.9671</td>\n",
       "      <td>2</td>\n",
       "      <td>242</td>\n",
       "      <td>17.8</td>\n",
       "      <td>396.90</td>\n",
       "      <td>9.14</td>\n",
       "      <td>21.6</td>\n",
       "    </tr>\n",
       "    <tr>\n",
       "      <th>2</th>\n",
       "      <td>0.02729</td>\n",
       "      <td>0.0</td>\n",
       "      <td>7.07</td>\n",
       "      <td>0.0</td>\n",
       "      <td>0.469</td>\n",
       "      <td>7.185</td>\n",
       "      <td>61.1</td>\n",
       "      <td>4.9671</td>\n",
       "      <td>2</td>\n",
       "      <td>242</td>\n",
       "      <td>17.8</td>\n",
       "      <td>392.83</td>\n",
       "      <td>4.03</td>\n",
       "      <td>34.7</td>\n",
       "    </tr>\n",
       "    <tr>\n",
       "      <th>3</th>\n",
       "      <td>0.03237</td>\n",
       "      <td>0.0</td>\n",
       "      <td>2.18</td>\n",
       "      <td>0.0</td>\n",
       "      <td>0.458</td>\n",
       "      <td>6.998</td>\n",
       "      <td>45.8</td>\n",
       "      <td>6.0622</td>\n",
       "      <td>3</td>\n",
       "      <td>222</td>\n",
       "      <td>18.7</td>\n",
       "      <td>394.63</td>\n",
       "      <td>2.94</td>\n",
       "      <td>33.4</td>\n",
       "    </tr>\n",
       "    <tr>\n",
       "      <th>4</th>\n",
       "      <td>0.06905</td>\n",
       "      <td>0.0</td>\n",
       "      <td>2.18</td>\n",
       "      <td>0.0</td>\n",
       "      <td>0.458</td>\n",
       "      <td>7.147</td>\n",
       "      <td>54.2</td>\n",
       "      <td>6.0622</td>\n",
       "      <td>3</td>\n",
       "      <td>222</td>\n",
       "      <td>18.7</td>\n",
       "      <td>396.90</td>\n",
       "      <td>NaN</td>\n",
       "      <td>36.2</td>\n",
       "    </tr>\n",
       "  </tbody>\n",
       "</table>\n",
       "</div>"
      ],
      "text/plain": [
       "      CRIM    ZN  INDUS  CHAS    NOX     RM   AGE     DIS  RAD  TAX  PTRATIO  \\\n",
       "0  0.00632  18.0   2.31   0.0  0.538  6.575  65.2  4.0900    1  296     15.3   \n",
       "1  0.02731   0.0   7.07   0.0  0.469  6.421  78.9  4.9671    2  242     17.8   \n",
       "2  0.02729   0.0   7.07   0.0  0.469  7.185  61.1  4.9671    2  242     17.8   \n",
       "3  0.03237   0.0   2.18   0.0  0.458  6.998  45.8  6.0622    3  222     18.7   \n",
       "4  0.06905   0.0   2.18   0.0  0.458  7.147  54.2  6.0622    3  222     18.7   \n",
       "\n",
       "        B  LSTAT  MEDV  \n",
       "0  396.90   4.98  24.0  \n",
       "1  396.90   9.14  21.6  \n",
       "2  392.83   4.03  34.7  \n",
       "3  394.63   2.94  33.4  \n",
       "4  396.90    NaN  36.2  "
      ]
     },
     "execution_count": 3,
     "metadata": {},
     "output_type": "execute_result"
    }
   ],
   "source": [
    "# data.head to check the first few columns of the data set\n",
    "data.head()"
   ]
  },
  {
   "cell_type": "code",
   "execution_count": 4,
   "metadata": {},
   "outputs": [],
   "source": [
    "# We rename the columns now using data.columns function\n",
    "data.columns=['Crime Rate','Residential Land Zone','Non-retail business acres','Charles River Variable','Nitric Oxide Concentration',\n",
    "             'Rooms','Age','Distance','Accessiblity to Highway','Tax Rate','Pupil-Teacher ratio','Proportion of Blacks','% lower status',\n",
    "             'Median Value']"
   ]
  },
  {
   "cell_type": "code",
   "execution_count": 5,
   "metadata": {},
   "outputs": [
    {
     "data": {
      "text/html": [
       "<div>\n",
       "<style scoped>\n",
       "    .dataframe tbody tr th:only-of-type {\n",
       "        vertical-align: middle;\n",
       "    }\n",
       "\n",
       "    .dataframe tbody tr th {\n",
       "        vertical-align: top;\n",
       "    }\n",
       "\n",
       "    .dataframe thead th {\n",
       "        text-align: right;\n",
       "    }\n",
       "</style>\n",
       "<table border=\"1\" class=\"dataframe\">\n",
       "  <thead>\n",
       "    <tr style=\"text-align: right;\">\n",
       "      <th></th>\n",
       "      <th>Crime Rate</th>\n",
       "      <th>Residential Land Zone</th>\n",
       "      <th>Non-retail business acres</th>\n",
       "      <th>Charles River Variable</th>\n",
       "      <th>Nitric Oxide Concentration</th>\n",
       "      <th>Rooms</th>\n",
       "      <th>Age</th>\n",
       "      <th>Distance</th>\n",
       "      <th>Accessiblity to Highway</th>\n",
       "      <th>Tax Rate</th>\n",
       "      <th>Pupil-Teacher ratio</th>\n",
       "      <th>Proportion of Blacks</th>\n",
       "      <th>% lower status</th>\n",
       "      <th>Median Value</th>\n",
       "    </tr>\n",
       "  </thead>\n",
       "  <tbody>\n",
       "    <tr>\n",
       "      <th>0</th>\n",
       "      <td>0.00632</td>\n",
       "      <td>18.0</td>\n",
       "      <td>2.31</td>\n",
       "      <td>0.0</td>\n",
       "      <td>0.538</td>\n",
       "      <td>6.575</td>\n",
       "      <td>65.2</td>\n",
       "      <td>4.0900</td>\n",
       "      <td>1</td>\n",
       "      <td>296</td>\n",
       "      <td>15.3</td>\n",
       "      <td>396.90</td>\n",
       "      <td>4.98</td>\n",
       "      <td>24.0</td>\n",
       "    </tr>\n",
       "    <tr>\n",
       "      <th>1</th>\n",
       "      <td>0.02731</td>\n",
       "      <td>0.0</td>\n",
       "      <td>7.07</td>\n",
       "      <td>0.0</td>\n",
       "      <td>0.469</td>\n",
       "      <td>6.421</td>\n",
       "      <td>78.9</td>\n",
       "      <td>4.9671</td>\n",
       "      <td>2</td>\n",
       "      <td>242</td>\n",
       "      <td>17.8</td>\n",
       "      <td>396.90</td>\n",
       "      <td>9.14</td>\n",
       "      <td>21.6</td>\n",
       "    </tr>\n",
       "    <tr>\n",
       "      <th>2</th>\n",
       "      <td>0.02729</td>\n",
       "      <td>0.0</td>\n",
       "      <td>7.07</td>\n",
       "      <td>0.0</td>\n",
       "      <td>0.469</td>\n",
       "      <td>7.185</td>\n",
       "      <td>61.1</td>\n",
       "      <td>4.9671</td>\n",
       "      <td>2</td>\n",
       "      <td>242</td>\n",
       "      <td>17.8</td>\n",
       "      <td>392.83</td>\n",
       "      <td>4.03</td>\n",
       "      <td>34.7</td>\n",
       "    </tr>\n",
       "    <tr>\n",
       "      <th>3</th>\n",
       "      <td>0.03237</td>\n",
       "      <td>0.0</td>\n",
       "      <td>2.18</td>\n",
       "      <td>0.0</td>\n",
       "      <td>0.458</td>\n",
       "      <td>6.998</td>\n",
       "      <td>45.8</td>\n",
       "      <td>6.0622</td>\n",
       "      <td>3</td>\n",
       "      <td>222</td>\n",
       "      <td>18.7</td>\n",
       "      <td>394.63</td>\n",
       "      <td>2.94</td>\n",
       "      <td>33.4</td>\n",
       "    </tr>\n",
       "    <tr>\n",
       "      <th>4</th>\n",
       "      <td>0.06905</td>\n",
       "      <td>0.0</td>\n",
       "      <td>2.18</td>\n",
       "      <td>0.0</td>\n",
       "      <td>0.458</td>\n",
       "      <td>7.147</td>\n",
       "      <td>54.2</td>\n",
       "      <td>6.0622</td>\n",
       "      <td>3</td>\n",
       "      <td>222</td>\n",
       "      <td>18.7</td>\n",
       "      <td>396.90</td>\n",
       "      <td>NaN</td>\n",
       "      <td>36.2</td>\n",
       "    </tr>\n",
       "  </tbody>\n",
       "</table>\n",
       "</div>"
      ],
      "text/plain": [
       "   Crime Rate  Residential Land Zone  Non-retail business acres  \\\n",
       "0     0.00632                   18.0                       2.31   \n",
       "1     0.02731                    0.0                       7.07   \n",
       "2     0.02729                    0.0                       7.07   \n",
       "3     0.03237                    0.0                       2.18   \n",
       "4     0.06905                    0.0                       2.18   \n",
       "\n",
       "   Charles River Variable  Nitric Oxide Concentration  Rooms   Age  Distance  \\\n",
       "0                     0.0                       0.538  6.575  65.2    4.0900   \n",
       "1                     0.0                       0.469  6.421  78.9    4.9671   \n",
       "2                     0.0                       0.469  7.185  61.1    4.9671   \n",
       "3                     0.0                       0.458  6.998  45.8    6.0622   \n",
       "4                     0.0                       0.458  7.147  54.2    6.0622   \n",
       "\n",
       "   Accessiblity to Highway  Tax Rate  Pupil-Teacher ratio  \\\n",
       "0                        1       296                 15.3   \n",
       "1                        2       242                 17.8   \n",
       "2                        2       242                 17.8   \n",
       "3                        3       222                 18.7   \n",
       "4                        3       222                 18.7   \n",
       "\n",
       "   Proportion of Blacks  % lower status  Median Value  \n",
       "0                396.90            4.98          24.0  \n",
       "1                396.90            9.14          21.6  \n",
       "2                392.83            4.03          34.7  \n",
       "3                394.63            2.94          33.4  \n",
       "4                396.90             NaN          36.2  "
      ]
     },
     "execution_count": 5,
     "metadata": {},
     "output_type": "execute_result"
    }
   ],
   "source": [
    "# data.head after renaming the columns\n",
    "data.head()"
   ]
  },
  {
   "cell_type": "code",
   "execution_count": 6,
   "metadata": {},
   "outputs": [],
   "source": [
    "# let's drop proportion of blacks\n",
    "# We use data.drop to drop the proportion of blacks\n",
    "data.drop(\"Proportion of Blacks\",axis=1, inplace=True)"
   ]
  },
  {
   "cell_type": "code",
   "execution_count": 7,
   "metadata": {},
   "outputs": [
    {
     "data": {
      "text/html": [
       "<div>\n",
       "<style scoped>\n",
       "    .dataframe tbody tr th:only-of-type {\n",
       "        vertical-align: middle;\n",
       "    }\n",
       "\n",
       "    .dataframe tbody tr th {\n",
       "        vertical-align: top;\n",
       "    }\n",
       "\n",
       "    .dataframe thead th {\n",
       "        text-align: right;\n",
       "    }\n",
       "</style>\n",
       "<table border=\"1\" class=\"dataframe\">\n",
       "  <thead>\n",
       "    <tr style=\"text-align: right;\">\n",
       "      <th></th>\n",
       "      <th>Crime Rate</th>\n",
       "      <th>Residential Land Zone</th>\n",
       "      <th>Non-retail business acres</th>\n",
       "      <th>Charles River Variable</th>\n",
       "      <th>Nitric Oxide Concentration</th>\n",
       "      <th>Rooms</th>\n",
       "      <th>Age</th>\n",
       "      <th>Distance</th>\n",
       "      <th>Accessiblity to Highway</th>\n",
       "      <th>Tax Rate</th>\n",
       "      <th>Pupil-Teacher ratio</th>\n",
       "      <th>% lower status</th>\n",
       "      <th>Median Value</th>\n",
       "    </tr>\n",
       "  </thead>\n",
       "  <tbody>\n",
       "    <tr>\n",
       "      <th>0</th>\n",
       "      <td>0.00632</td>\n",
       "      <td>18.0</td>\n",
       "      <td>2.31</td>\n",
       "      <td>0.0</td>\n",
       "      <td>0.538</td>\n",
       "      <td>6.575</td>\n",
       "      <td>65.2</td>\n",
       "      <td>4.0900</td>\n",
       "      <td>1</td>\n",
       "      <td>296</td>\n",
       "      <td>15.3</td>\n",
       "      <td>4.98</td>\n",
       "      <td>24.0</td>\n",
       "    </tr>\n",
       "    <tr>\n",
       "      <th>1</th>\n",
       "      <td>0.02731</td>\n",
       "      <td>0.0</td>\n",
       "      <td>7.07</td>\n",
       "      <td>0.0</td>\n",
       "      <td>0.469</td>\n",
       "      <td>6.421</td>\n",
       "      <td>78.9</td>\n",
       "      <td>4.9671</td>\n",
       "      <td>2</td>\n",
       "      <td>242</td>\n",
       "      <td>17.8</td>\n",
       "      <td>9.14</td>\n",
       "      <td>21.6</td>\n",
       "    </tr>\n",
       "    <tr>\n",
       "      <th>2</th>\n",
       "      <td>0.02729</td>\n",
       "      <td>0.0</td>\n",
       "      <td>7.07</td>\n",
       "      <td>0.0</td>\n",
       "      <td>0.469</td>\n",
       "      <td>7.185</td>\n",
       "      <td>61.1</td>\n",
       "      <td>4.9671</td>\n",
       "      <td>2</td>\n",
       "      <td>242</td>\n",
       "      <td>17.8</td>\n",
       "      <td>4.03</td>\n",
       "      <td>34.7</td>\n",
       "    </tr>\n",
       "    <tr>\n",
       "      <th>3</th>\n",
       "      <td>0.03237</td>\n",
       "      <td>0.0</td>\n",
       "      <td>2.18</td>\n",
       "      <td>0.0</td>\n",
       "      <td>0.458</td>\n",
       "      <td>6.998</td>\n",
       "      <td>45.8</td>\n",
       "      <td>6.0622</td>\n",
       "      <td>3</td>\n",
       "      <td>222</td>\n",
       "      <td>18.7</td>\n",
       "      <td>2.94</td>\n",
       "      <td>33.4</td>\n",
       "    </tr>\n",
       "    <tr>\n",
       "      <th>4</th>\n",
       "      <td>0.06905</td>\n",
       "      <td>0.0</td>\n",
       "      <td>2.18</td>\n",
       "      <td>0.0</td>\n",
       "      <td>0.458</td>\n",
       "      <td>7.147</td>\n",
       "      <td>54.2</td>\n",
       "      <td>6.0622</td>\n",
       "      <td>3</td>\n",
       "      <td>222</td>\n",
       "      <td>18.7</td>\n",
       "      <td>NaN</td>\n",
       "      <td>36.2</td>\n",
       "    </tr>\n",
       "  </tbody>\n",
       "</table>\n",
       "</div>"
      ],
      "text/plain": [
       "   Crime Rate  Residential Land Zone  Non-retail business acres  \\\n",
       "0     0.00632                   18.0                       2.31   \n",
       "1     0.02731                    0.0                       7.07   \n",
       "2     0.02729                    0.0                       7.07   \n",
       "3     0.03237                    0.0                       2.18   \n",
       "4     0.06905                    0.0                       2.18   \n",
       "\n",
       "   Charles River Variable  Nitric Oxide Concentration  Rooms   Age  Distance  \\\n",
       "0                     0.0                       0.538  6.575  65.2    4.0900   \n",
       "1                     0.0                       0.469  6.421  78.9    4.9671   \n",
       "2                     0.0                       0.469  7.185  61.1    4.9671   \n",
       "3                     0.0                       0.458  6.998  45.8    6.0622   \n",
       "4                     0.0                       0.458  7.147  54.2    6.0622   \n",
       "\n",
       "   Accessiblity to Highway  Tax Rate  Pupil-Teacher ratio  % lower status  \\\n",
       "0                        1       296                 15.3            4.98   \n",
       "1                        2       242                 17.8            9.14   \n",
       "2                        2       242                 17.8            4.03   \n",
       "3                        3       222                 18.7            2.94   \n",
       "4                        3       222                 18.7             NaN   \n",
       "\n",
       "   Median Value  \n",
       "0          24.0  \n",
       "1          21.6  \n",
       "2          34.7  \n",
       "3          33.4  \n",
       "4          36.2  "
      ]
     },
     "execution_count": 7,
     "metadata": {},
     "output_type": "execute_result"
    }
   ],
   "source": [
    "# data.head to verify\n",
    "data.head()"
   ]
  },
  {
   "cell_type": "code",
   "execution_count": 8,
   "metadata": {},
   "outputs": [
    {
     "data": {
      "text/html": [
       "<div>\n",
       "<style scoped>\n",
       "    .dataframe tbody tr th:only-of-type {\n",
       "        vertical-align: middle;\n",
       "    }\n",
       "\n",
       "    .dataframe tbody tr th {\n",
       "        vertical-align: top;\n",
       "    }\n",
       "\n",
       "    .dataframe thead th {\n",
       "        text-align: right;\n",
       "    }\n",
       "</style>\n",
       "<table border=\"1\" class=\"dataframe\">\n",
       "  <thead>\n",
       "    <tr style=\"text-align: right;\">\n",
       "      <th></th>\n",
       "      <th>Crime Rate</th>\n",
       "      <th>Residential Land Zone</th>\n",
       "      <th>Non-retail business acres</th>\n",
       "      <th>Charles River Variable</th>\n",
       "      <th>Nitric Oxide Concentration</th>\n",
       "      <th>Rooms</th>\n",
       "      <th>Age</th>\n",
       "      <th>Distance</th>\n",
       "      <th>Accessiblity to Highway</th>\n",
       "      <th>Tax Rate</th>\n",
       "      <th>Pupil-Teacher ratio</th>\n",
       "      <th>% lower status</th>\n",
       "      <th>Median Value</th>\n",
       "    </tr>\n",
       "  </thead>\n",
       "  <tbody>\n",
       "    <tr>\n",
       "      <th>count</th>\n",
       "      <td>486.000000</td>\n",
       "      <td>486.000000</td>\n",
       "      <td>486.000000</td>\n",
       "      <td>486.000000</td>\n",
       "      <td>506.000000</td>\n",
       "      <td>506.000000</td>\n",
       "      <td>486.000000</td>\n",
       "      <td>506.000000</td>\n",
       "      <td>506.000000</td>\n",
       "      <td>506.000000</td>\n",
       "      <td>506.000000</td>\n",
       "      <td>486.000000</td>\n",
       "      <td>506.000000</td>\n",
       "    </tr>\n",
       "    <tr>\n",
       "      <th>mean</th>\n",
       "      <td>3.611874</td>\n",
       "      <td>11.211934</td>\n",
       "      <td>11.083992</td>\n",
       "      <td>0.069959</td>\n",
       "      <td>0.554695</td>\n",
       "      <td>6.284634</td>\n",
       "      <td>68.518519</td>\n",
       "      <td>3.795043</td>\n",
       "      <td>9.549407</td>\n",
       "      <td>408.237154</td>\n",
       "      <td>18.455534</td>\n",
       "      <td>12.715432</td>\n",
       "      <td>22.532806</td>\n",
       "    </tr>\n",
       "    <tr>\n",
       "      <th>std</th>\n",
       "      <td>8.720192</td>\n",
       "      <td>23.388876</td>\n",
       "      <td>6.835896</td>\n",
       "      <td>0.255340</td>\n",
       "      <td>0.115878</td>\n",
       "      <td>0.702617</td>\n",
       "      <td>27.999513</td>\n",
       "      <td>2.105710</td>\n",
       "      <td>8.707259</td>\n",
       "      <td>168.537116</td>\n",
       "      <td>2.164946</td>\n",
       "      <td>7.155871</td>\n",
       "      <td>9.197104</td>\n",
       "    </tr>\n",
       "    <tr>\n",
       "      <th>min</th>\n",
       "      <td>0.006320</td>\n",
       "      <td>0.000000</td>\n",
       "      <td>0.460000</td>\n",
       "      <td>0.000000</td>\n",
       "      <td>0.385000</td>\n",
       "      <td>3.561000</td>\n",
       "      <td>2.900000</td>\n",
       "      <td>1.129600</td>\n",
       "      <td>1.000000</td>\n",
       "      <td>187.000000</td>\n",
       "      <td>12.600000</td>\n",
       "      <td>1.730000</td>\n",
       "      <td>5.000000</td>\n",
       "    </tr>\n",
       "    <tr>\n",
       "      <th>25%</th>\n",
       "      <td>0.081900</td>\n",
       "      <td>0.000000</td>\n",
       "      <td>5.190000</td>\n",
       "      <td>0.000000</td>\n",
       "      <td>0.449000</td>\n",
       "      <td>5.885500</td>\n",
       "      <td>45.175000</td>\n",
       "      <td>2.100175</td>\n",
       "      <td>4.000000</td>\n",
       "      <td>279.000000</td>\n",
       "      <td>17.400000</td>\n",
       "      <td>7.125000</td>\n",
       "      <td>17.025000</td>\n",
       "    </tr>\n",
       "    <tr>\n",
       "      <th>50%</th>\n",
       "      <td>0.253715</td>\n",
       "      <td>0.000000</td>\n",
       "      <td>9.690000</td>\n",
       "      <td>0.000000</td>\n",
       "      <td>0.538000</td>\n",
       "      <td>6.208500</td>\n",
       "      <td>76.800000</td>\n",
       "      <td>3.207450</td>\n",
       "      <td>5.000000</td>\n",
       "      <td>330.000000</td>\n",
       "      <td>19.050000</td>\n",
       "      <td>11.430000</td>\n",
       "      <td>21.200000</td>\n",
       "    </tr>\n",
       "    <tr>\n",
       "      <th>75%</th>\n",
       "      <td>3.560262</td>\n",
       "      <td>12.500000</td>\n",
       "      <td>18.100000</td>\n",
       "      <td>0.000000</td>\n",
       "      <td>0.624000</td>\n",
       "      <td>6.623500</td>\n",
       "      <td>93.975000</td>\n",
       "      <td>5.188425</td>\n",
       "      <td>24.000000</td>\n",
       "      <td>666.000000</td>\n",
       "      <td>20.200000</td>\n",
       "      <td>16.955000</td>\n",
       "      <td>25.000000</td>\n",
       "    </tr>\n",
       "    <tr>\n",
       "      <th>max</th>\n",
       "      <td>88.976200</td>\n",
       "      <td>100.000000</td>\n",
       "      <td>27.740000</td>\n",
       "      <td>1.000000</td>\n",
       "      <td>0.871000</td>\n",
       "      <td>8.780000</td>\n",
       "      <td>100.000000</td>\n",
       "      <td>12.126500</td>\n",
       "      <td>24.000000</td>\n",
       "      <td>711.000000</td>\n",
       "      <td>22.000000</td>\n",
       "      <td>37.970000</td>\n",
       "      <td>50.000000</td>\n",
       "    </tr>\n",
       "  </tbody>\n",
       "</table>\n",
       "</div>"
      ],
      "text/plain": [
       "       Crime Rate  Residential Land Zone  Non-retail business acres  \\\n",
       "count  486.000000             486.000000                 486.000000   \n",
       "mean     3.611874              11.211934                  11.083992   \n",
       "std      8.720192              23.388876                   6.835896   \n",
       "min      0.006320               0.000000                   0.460000   \n",
       "25%      0.081900               0.000000                   5.190000   \n",
       "50%      0.253715               0.000000                   9.690000   \n",
       "75%      3.560262              12.500000                  18.100000   \n",
       "max     88.976200             100.000000                  27.740000   \n",
       "\n",
       "       Charles River Variable  Nitric Oxide Concentration       Rooms  \\\n",
       "count              486.000000                  506.000000  506.000000   \n",
       "mean                 0.069959                    0.554695    6.284634   \n",
       "std                  0.255340                    0.115878    0.702617   \n",
       "min                  0.000000                    0.385000    3.561000   \n",
       "25%                  0.000000                    0.449000    5.885500   \n",
       "50%                  0.000000                    0.538000    6.208500   \n",
       "75%                  0.000000                    0.624000    6.623500   \n",
       "max                  1.000000                    0.871000    8.780000   \n",
       "\n",
       "              Age    Distance  Accessiblity to Highway    Tax Rate  \\\n",
       "count  486.000000  506.000000               506.000000  506.000000   \n",
       "mean    68.518519    3.795043                 9.549407  408.237154   \n",
       "std     27.999513    2.105710                 8.707259  168.537116   \n",
       "min      2.900000    1.129600                 1.000000  187.000000   \n",
       "25%     45.175000    2.100175                 4.000000  279.000000   \n",
       "50%     76.800000    3.207450                 5.000000  330.000000   \n",
       "75%     93.975000    5.188425                24.000000  666.000000   \n",
       "max    100.000000   12.126500                24.000000  711.000000   \n",
       "\n",
       "       Pupil-Teacher ratio  % lower status  Median Value  \n",
       "count           506.000000      486.000000    506.000000  \n",
       "mean             18.455534       12.715432     22.532806  \n",
       "std               2.164946        7.155871      9.197104  \n",
       "min              12.600000        1.730000      5.000000  \n",
       "25%              17.400000        7.125000     17.025000  \n",
       "50%              19.050000       11.430000     21.200000  \n",
       "75%              20.200000       16.955000     25.000000  \n",
       "max              22.000000       37.970000     50.000000  "
      ]
     },
     "execution_count": 8,
     "metadata": {},
     "output_type": "execute_result"
    }
   ],
   "source": [
    "# we use describe for sample stats and central tendency stats\n",
    "data.describe()"
   ]
  },
  {
   "cell_type": "code",
   "execution_count": 9,
   "metadata": {},
   "outputs": [
    {
     "name": "stdout",
     "output_type": "stream",
     "text": [
      "<class 'pandas.core.frame.DataFrame'>\n",
      "RangeIndex: 506 entries, 0 to 505\n",
      "Data columns (total 13 columns):\n",
      " #   Column                      Non-Null Count  Dtype  \n",
      "---  ------                      --------------  -----  \n",
      " 0   Crime Rate                  486 non-null    float64\n",
      " 1   Residential Land Zone       486 non-null    float64\n",
      " 2   Non-retail business acres   486 non-null    float64\n",
      " 3   Charles River Variable      486 non-null    float64\n",
      " 4   Nitric Oxide Concentration  506 non-null    float64\n",
      " 5   Rooms                       506 non-null    float64\n",
      " 6   Age                         486 non-null    float64\n",
      " 7   Distance                    506 non-null    float64\n",
      " 8   Accessiblity to Highway     506 non-null    int64  \n",
      " 9   Tax Rate                    506 non-null    int64  \n",
      " 10  Pupil-Teacher ratio         506 non-null    float64\n",
      " 11  % lower status              486 non-null    float64\n",
      " 12  Median Value                506 non-null    float64\n",
      "dtypes: float64(11), int64(2)\n",
      "memory usage: 51.5 KB\n"
     ]
    }
   ],
   "source": [
    "# We use data.info to get the data types and count of non-nulls in the dataset\n",
    "data.info()"
   ]
  },
  {
   "cell_type": "code",
   "execution_count": 10,
   "metadata": {},
   "outputs": [
    {
     "data": {
      "text/plain": [
       "Crime Rate                     True\n",
       "Residential Land Zone          True\n",
       "Non-retail business acres      True\n",
       "Charles River Variable         True\n",
       "Nitric Oxide Concentration    False\n",
       "Rooms                         False\n",
       "Age                            True\n",
       "Distance                      False\n",
       "Accessiblity to Highway       False\n",
       "Tax Rate                      False\n",
       "Pupil-Teacher ratio           False\n",
       "% lower status                 True\n",
       "Median Value                  False\n",
       "dtype: bool"
      ]
     },
     "execution_count": 10,
     "metadata": {},
     "output_type": "execute_result"
    }
   ],
   "source": [
    "# From the result above, we found out that there is a possibility of nulls or missing data which we can count by summing all nulls\n",
    "# checking for nulls\n",
    "data.isnull().any()"
   ]
  },
  {
   "cell_type": "code",
   "execution_count": 48,
   "metadata": {},
   "outputs": [
    {
     "data": {
      "image/png": "[encoded data removed]",
      "text/plain": [
       "<Figure size 720x720 with 2 Axes>"
      ]
     },
     "metadata": {
      "needs_background": "light"
     },
     "output_type": "display_data"
    }
   ],
   "source": [
    "# Now, let's check for a correlation between the target value, which is our Median House price values, and all the other columns.\n",
    "# Let's check then for a correlation to our median value (which of the variables are highly correlated to it?)\n",
    "# We use seaborn heatmap. We should also consider the effects of outliers as well. But, let's check for correlation first\n",
    "# Using seaborn\n",
    "plt.figure(figsize=(10, 10))\n",
    "sns.heatmap(data.corr(),annot = True,cmap= 'coolwarm', linewidths=1, linecolor='white',fmt='.2g')\n",
    "plt.savefig(\"output/Seaborn.png\")"
   ]
  },
  {
   "cell_type": "markdown",
   "metadata": {},
   "source": [
    "Looking at the last column, we found out that the # of rooms (0.7) and % lower status (-0.74) have a strong correlation to the median house value. This means they directly influence the price. The correlation analysis shows that median house value is highly correlated to % lower status and the number of rooms per dwelling.\n",
    "The total number of Rooms is positively correlated to Median Value. So as number of Rooms increases, the Median value increases. The opposite is true for % lower status: when % lower status goes up, the price goes down."
   ]
  },
  {
   "cell_type": "code",
   "execution_count": 12,
   "metadata": {},
   "outputs": [
    {
     "name": "stdout",
     "output_type": "stream",
     "text": [
      "<class 'pandas.core.frame.DataFrame'>\n",
      "RangeIndex: 506 entries, 0 to 505\n",
      "Data columns (total 13 columns):\n",
      " #   Column                      Non-Null Count  Dtype  \n",
      "---  ------                      --------------  -----  \n",
      " 0   Crime Rate                  506 non-null    float64\n",
      " 1   Residential Land Zone       506 non-null    float64\n",
      " 2   Non-retail business acres   506 non-null    float64\n",
      " 3   Charles River Variable      506 non-null    float64\n",
      " 4   Nitric Oxide Concentration  506 non-null    float64\n",
      " 5   Rooms                       506 non-null    float64\n",
      " 6   Age                         506 non-null    float64\n",
      " 7   Distance                    506 non-null    float64\n",
      " 8   Accessiblity to Highway     506 non-null    float64\n",
      " 9   Tax Rate                    506 non-null    float64\n",
      " 10  Pupil-Teacher ratio         506 non-null    float64\n",
      " 11  % lower status              506 non-null    float64\n",
      " 12  Median Value                506 non-null    float64\n",
      "dtypes: float64(13)\n",
      "memory usage: 51.5 KB\n"
     ]
    }
   ],
   "source": [
    "#data = data.dropna()\n",
    "#data.info()\n",
    "from sklearn.impute import SimpleImputer\n",
    "imputer = SimpleImputer(strategy='median')\n",
    "data.iloc[:,:]=imputer.fit_transform(data)\n",
    "data.info()"
   ]
  },
  {
   "cell_type": "code",
   "execution_count": 13,
   "metadata": {},
   "outputs": [],
   "source": [
    "#data.dropna(subset=['Nitric Oxide Concentration', 'Rooms'])\n",
    "#data.info()"
   ]
  },
  {
   "cell_type": "code",
   "execution_count": 14,
   "metadata": {},
   "outputs": [],
   "source": [
    "#data = data.fillna(0)\n",
    "#data.info()"
   ]
  },
  {
   "cell_type": "code",
   "execution_count": 15,
   "metadata": {},
   "outputs": [
    {
     "name": "stdout",
     "output_type": "stream",
     "text": [
      "(506, 12) (506, 1)\n"
     ]
    }
   ],
   "source": [
    "# Assign the data to X and y\n",
    "X = data[['Crime Rate','Residential Land Zone','Non-retail business acres','Charles River Variable','Nitric Oxide Concentration',\n",
    "             'Rooms','Age','Distance','Accessiblity to Highway','Tax Rate','Pupil-Teacher ratio','% lower status']]\n",
    "y = data['Median Value'].values.reshape(-1,1)\n",
    "print(X.shape, y.shape)"
   ]
  },
  {
   "cell_type": "code",
   "execution_count": 16,
   "metadata": {},
   "outputs": [],
   "source": [
    "# Use train_test_split to create training and testing data\n",
    "from sklearn.model_selection import train_test_split\n",
    "\n",
    "X_train, X_test, y_train, y_test = train_test_split(X, y, random_state=150)"
   ]
  },
  {
   "cell_type": "code",
   "execution_count": 17,
   "metadata": {},
   "outputs": [],
   "source": [
    "# Create the model using LinearRegression\n",
    "model = LinearRegression()"
   ]
  },
  {
   "cell_type": "code",
   "execution_count": 18,
   "metadata": {},
   "outputs": [
    {
     "name": "stdout",
     "output_type": "stream",
     "text": [
      "Training Score: 0.7363656418642832\n",
      "Testing Score: 0.615329875896842\n"
     ]
    }
   ],
   "source": [
    "# Fit the model to the training data and calculate the scores for the training and testing data\n",
    "model.fit(X_train, y_train)\n",
    "training_score = model.score(X_train, y_train)\n",
    "testing_score = model.score(X_test, y_test)\n",
    "\n",
    "print(f\"Training Score: {training_score}\")\n",
    "print(f\"Testing Score: {testing_score}\")"
   ]
  },
  {
   "cell_type": "code",
   "execution_count": 19,
   "metadata": {},
   "outputs": [
    {
     "data": {
      "text/plain": [
       "Text(0.5, 1.0, 'Residual Plot')"
      ]
     },
     "execution_count": 19,
     "metadata": {},
     "output_type": "execute_result"
    },
    {
     "data": {
      "image/png": "[encoded data removed]",
      "text/plain": [
       "<Figure size 432x288 with 1 Axes>"
      ]
     },
     "metadata": {
      "needs_background": "light"
     },
     "output_type": "display_data"
    }
   ],
   "source": [
    "# Plot the Residuals for the Training and Testing data\n",
    "plt.scatter(model.predict(X_train), model.predict(X_train) - y_train, c=\"blue\", label=\"Training Data\")\n",
    "plt.scatter(model.predict(X_test), model.predict(X_test) - y_test, c=\"orange\", label=\"Testing Data\")\n",
    "plt.legend()\n",
    "plt.hlines(y=0, xmin=y.min(), xmax=y.max())\n",
    "plt.title(\"Residual Plot\")"
   ]
  },
  {
   "cell_type": "markdown",
   "metadata": {},
   "source": [
    "Seloms Code Here"
   ]
  },
  {
   "cell_type": "code",
   "execution_count": 20,
   "metadata": {},
   "outputs": [],
   "source": [
    "# Imputate nulls or missing values using the simpleimputer from sklearn and transform them to a median by column \n",
    "from sklearn.impute import SimpleImputer\n",
    "data_copy = data.copy()\n",
    "imputer = SimpleImputer(strategy='median')\n",
    "data_copy.iloc[:,:]=imputer.fit_transform(data_copy)"
   ]
  },
  {
   "cell_type": "code",
   "execution_count": 21,
   "metadata": {},
   "outputs": [
    {
     "data": {
      "text/plain": [
       "Crime Rate                    False\n",
       "Residential Land Zone         False\n",
       "Non-retail business acres     False\n",
       "Charles River Variable        False\n",
       "Nitric Oxide Concentration    False\n",
       "Rooms                         False\n",
       "Age                           False\n",
       "Distance                      False\n",
       "Accessiblity to Highway       False\n",
       "Tax Rate                      False\n",
       "Pupil-Teacher ratio           False\n",
       "% lower status                False\n",
       "Median Value                  False\n",
       "dtype: bool"
      ]
     },
     "execution_count": 21,
     "metadata": {},
     "output_type": "execute_result"
    }
   ],
   "source": [
    "# Checking for nulls or missing values\n",
    "data.isnull().any()"
   ]
  },
  {
   "cell_type": "code",
   "execution_count": 22,
   "metadata": {},
   "outputs": [
    {
     "data": {
      "text/plain": [
       "Crime Rate                    0\n",
       "Residential Land Zone         0\n",
       "Non-retail business acres     0\n",
       "Charles River Variable        0\n",
       "Nitric Oxide Concentration    0\n",
       "Rooms                         0\n",
       "Age                           0\n",
       "Distance                      0\n",
       "Accessiblity to Highway       0\n",
       "Tax Rate                      0\n",
       "Pupil-Teacher ratio           0\n",
       "% lower status                0\n",
       "Median Value                  0\n",
       "dtype: int64"
      ]
     },
     "execution_count": 22,
     "metadata": {},
     "output_type": "execute_result"
    }
   ],
   "source": [
    "# Counting nulls or missing values\n",
    "data.isnull().sum()"
   ]
  },
  {
   "cell_type": "markdown",
   "metadata": {},
   "source": [
    "Stephs Code Here"
   ]
  },
  {
   "cell_type": "markdown",
   "metadata": {},
   "source": [
    "# Export Dataframe to CSV"
   ]
  },
  {
   "cell_type": "code",
   "execution_count": 23,
   "metadata": {},
   "outputs": [],
   "source": [
    "data.to_csv(r'data\\revisedhousingdata.csv', index = False)"
   ]
  },
  {
   "cell_type": "markdown",
   "metadata": {},
   "source": [
    "Rachels Code Here"
   ]
  },
  {
   "cell_type": "code",
   "execution_count": 24,
   "metadata": {},
   "outputs": [
    {
     "data": {
      "text/html": [
       "<div>\n",
       "<style scoped>\n",
       "    .dataframe tbody tr th:only-of-type {\n",
       "        vertical-align: middle;\n",
       "    }\n",
       "\n",
       "    .dataframe tbody tr th {\n",
       "        vertical-align: top;\n",
       "    }\n",
       "\n",
       "    .dataframe thead th {\n",
       "        text-align: right;\n",
       "    }\n",
       "</style>\n",
       "<table border=\"1\" class=\"dataframe\">\n",
       "  <thead>\n",
       "    <tr style=\"text-align: right;\">\n",
       "      <th></th>\n",
       "      <th>Crime Rate</th>\n",
       "      <th>Residential Land Zone</th>\n",
       "      <th>Non-retail business acres</th>\n",
       "      <th>Charles River Variable</th>\n",
       "      <th>Nitric Oxide Concentration</th>\n",
       "      <th>Rooms</th>\n",
       "      <th>Age</th>\n",
       "      <th>Distance</th>\n",
       "      <th>Accessiblity to Highway</th>\n",
       "      <th>Tax Rate</th>\n",
       "      <th>Pupil-Teacher ratio</th>\n",
       "      <th>% lower status</th>\n",
       "      <th>Median Value</th>\n",
       "      <th>Home Value</th>\n",
       "    </tr>\n",
       "  </thead>\n",
       "  <tbody>\n",
       "    <tr>\n",
       "      <th>0</th>\n",
       "      <td>0.00632</td>\n",
       "      <td>18.0</td>\n",
       "      <td>2.31</td>\n",
       "      <td>0.0</td>\n",
       "      <td>0.538</td>\n",
       "      <td>6.575</td>\n",
       "      <td>65.2</td>\n",
       "      <td>4.0900</td>\n",
       "      <td>1.0</td>\n",
       "      <td>296.0</td>\n",
       "      <td>15.3</td>\n",
       "      <td>4.98</td>\n",
       "      <td>24.0</td>\n",
       "      <td>24000.0</td>\n",
       "    </tr>\n",
       "    <tr>\n",
       "      <th>1</th>\n",
       "      <td>0.02731</td>\n",
       "      <td>0.0</td>\n",
       "      <td>7.07</td>\n",
       "      <td>0.0</td>\n",
       "      <td>0.469</td>\n",
       "      <td>6.421</td>\n",
       "      <td>78.9</td>\n",
       "      <td>4.9671</td>\n",
       "      <td>2.0</td>\n",
       "      <td>242.0</td>\n",
       "      <td>17.8</td>\n",
       "      <td>9.14</td>\n",
       "      <td>21.6</td>\n",
       "      <td>21600.0</td>\n",
       "    </tr>\n",
       "    <tr>\n",
       "      <th>2</th>\n",
       "      <td>0.02729</td>\n",
       "      <td>0.0</td>\n",
       "      <td>7.07</td>\n",
       "      <td>0.0</td>\n",
       "      <td>0.469</td>\n",
       "      <td>7.185</td>\n",
       "      <td>61.1</td>\n",
       "      <td>4.9671</td>\n",
       "      <td>2.0</td>\n",
       "      <td>242.0</td>\n",
       "      <td>17.8</td>\n",
       "      <td>4.03</td>\n",
       "      <td>34.7</td>\n",
       "      <td>34700.0</td>\n",
       "    </tr>\n",
       "    <tr>\n",
       "      <th>3</th>\n",
       "      <td>0.03237</td>\n",
       "      <td>0.0</td>\n",
       "      <td>2.18</td>\n",
       "      <td>0.0</td>\n",
       "      <td>0.458</td>\n",
       "      <td>6.998</td>\n",
       "      <td>45.8</td>\n",
       "      <td>6.0622</td>\n",
       "      <td>3.0</td>\n",
       "      <td>222.0</td>\n",
       "      <td>18.7</td>\n",
       "      <td>2.94</td>\n",
       "      <td>33.4</td>\n",
       "      <td>33400.0</td>\n",
       "    </tr>\n",
       "    <tr>\n",
       "      <th>4</th>\n",
       "      <td>0.06905</td>\n",
       "      <td>0.0</td>\n",
       "      <td>2.18</td>\n",
       "      <td>0.0</td>\n",
       "      <td>0.458</td>\n",
       "      <td>7.147</td>\n",
       "      <td>54.2</td>\n",
       "      <td>6.0622</td>\n",
       "      <td>3.0</td>\n",
       "      <td>222.0</td>\n",
       "      <td>18.7</td>\n",
       "      <td>11.43</td>\n",
       "      <td>36.2</td>\n",
       "      <td>36200.0</td>\n",
       "    </tr>\n",
       "  </tbody>\n",
       "</table>\n",
       "</div>"
      ],
      "text/plain": [
       "   Crime Rate  Residential Land Zone  Non-retail business acres  \\\n",
       "0     0.00632                   18.0                       2.31   \n",
       "1     0.02731                    0.0                       7.07   \n",
       "2     0.02729                    0.0                       7.07   \n",
       "3     0.03237                    0.0                       2.18   \n",
       "4     0.06905                    0.0                       2.18   \n",
       "\n",
       "   Charles River Variable  Nitric Oxide Concentration  Rooms   Age  Distance  \\\n",
       "0                     0.0                       0.538  6.575  65.2    4.0900   \n",
       "1                     0.0                       0.469  6.421  78.9    4.9671   \n",
       "2                     0.0                       0.469  7.185  61.1    4.9671   \n",
       "3                     0.0                       0.458  6.998  45.8    6.0622   \n",
       "4                     0.0                       0.458  7.147  54.2    6.0622   \n",
       "\n",
       "   Accessiblity to Highway  Tax Rate  Pupil-Teacher ratio  % lower status  \\\n",
       "0                      1.0     296.0                 15.3            4.98   \n",
       "1                      2.0     242.0                 17.8            9.14   \n",
       "2                      2.0     242.0                 17.8            4.03   \n",
       "3                      3.0     222.0                 18.7            2.94   \n",
       "4                      3.0     222.0                 18.7           11.43   \n",
       "\n",
       "   Median Value  Home Value  \n",
       "0          24.0     24000.0  \n",
       "1          21.6     21600.0  \n",
       "2          34.7     34700.0  \n",
       "3          33.4     33400.0  \n",
       "4          36.2     36200.0  "
      ]
     },
     "execution_count": 24,
     "metadata": {},
     "output_type": "execute_result"
    }
   ],
   "source": [
    "data.head()\n",
    "data['Home Value'] = (data['Median Value'] * 1000)\n",
    "data.head()"
   ]
  },
  {
   "cell_type": "code",
   "execution_count": 25,
   "metadata": {},
   "outputs": [
    {
     "data": {
      "image/png": "[encoded data removed]",
      "text/plain": [
       "<Figure size 432x288 with 1 Axes>"
      ]
     },
     "metadata": {
      "needs_background": "light"
     },
     "output_type": "display_data"
    }
   ],
   "source": [
    "# Generate a scatter plot of Charles River Variable(distance from the river) vs. value\n",
    "crimeRate = data.iloc[:,0]\n",
    "value = data.iloc[:,13]\n",
    "\n",
    "plt.scatter(crimeRate, value, color = '#545E45')\n",
    "\n",
    "#label\n",
    "plt.title('Crime Rate vs Value')\n",
    "plt.xlabel('Crime Rate')\n",
    "plt.ylabel('Value')\n",
    "plt.show()"
   ]
  },
  {
   "cell_type": "code",
   "execution_count": 26,
   "metadata": {},
   "outputs": [
    {
     "data": {
      "image/png": "[encoded data removed]",
      "text/plain": [
       "<Figure size 432x288 with 1 Axes>"
      ]
     },
     "metadata": {
      "needs_background": "light"
     },
     "output_type": "display_data"
    }
   ],
   "source": [
    "# Generate a scatter plot of Charles River Variable(distance from the river) vs. value\n",
    "charlesRiver = data.iloc[:,3]\n",
    "value = data.iloc[:,13]\n",
    "\n",
    "plt.scatter(charlesRiver, value, color = '#8D2B00')\n",
    "\n",
    "#label\n",
    "plt.title('Distance from Charles River vs Value')\n",
    "plt.xlabel('Distance')\n",
    "plt.ylabel('Value')\n",
    "plt.show()"
   ]
  },
  {
   "cell_type": "code",
   "execution_count": 27,
   "metadata": {},
   "outputs": [
    {
     "data": {
      "image/png": "[encoded data removed]",
      "text/plain": [
       "<Figure size 432x288 with 1 Axes>"
      ]
     },
     "metadata": {
      "needs_background": "light"
     },
     "output_type": "display_data"
    }
   ],
   "source": [
    "# Generate a scatter plot of Nitric Oxide Concentration vs. value\n",
    "nitricOxide = data.iloc[:,4]\n",
    "value = data.iloc[:,13]\n",
    "\n",
    "plt.scatter(nitricOxide, value, color = '#BE6731')\n",
    "\n",
    "#label\n",
    "plt.title('Nitric Oxide vs Value')\n",
    "plt.xlabel('Nitric')\n",
    "plt.ylabel('Value')\n",
    "plt.savefig(\"output/NitricOxideVsValue.png\")\n",
    "plt.show()"
   ]
  },
  {
   "cell_type": "code",
   "execution_count": 28,
   "metadata": {},
   "outputs": [
    {
     "data": {
      "image/png": "[encoded data removed]",
      "text/plain": [
       "<Figure size 432x288 with 1 Axes>"
      ]
     },
     "metadata": {
      "needs_background": "light"
     },
     "output_type": "display_data"
    }
   ],
   "source": [
    "# Generate a scatter plot of rooms vs. value\n",
    "rooms = data.iloc[:,5]\n",
    "value = data.iloc[:,13]\n",
    "\n",
    "plt.scatter(rooms, value, color = '#76704C')\n",
    "\n",
    "\n",
    "#label\n",
    "plt.title('Number of Rooms vs Value')\n",
    "plt.xlabel('Rooms')\n",
    "plt.ylabel('Value')\n",
    "plt.savefig(\"output/NumberOfRoomsVsValue.png\")\n",
    "plt.show()"
   ]
  },
  {
   "cell_type": "code",
   "execution_count": 29,
   "metadata": {},
   "outputs": [
    {
     "data": {
      "image/png": "[encoded data removed]",
      "text/plain": [
       "<Figure size 432x288 with 1 Axes>"
      ]
     },
     "metadata": {
      "needs_background": "light"
     },
     "output_type": "display_data"
    }
   ],
   "source": [
    "# Generate a scatter plot of age vs. value\n",
    "age = data.iloc[:,6]\n",
    "value = data.iloc[:,13]\n",
    "\n",
    "plt.scatter(age, value, color = '#B55119')\n",
    "\n",
    "#label\n",
    "plt.title('Age of Home vs Value')\n",
    "plt.xlabel('Age')\n",
    "plt.ylabel('Value')\n",
    "plt.savefig(\"output/AgeVsValue.png\")\n",
    "plt.show()"
   ]
  },
  {
   "cell_type": "code",
   "execution_count": 30,
   "metadata": {},
   "outputs": [
    {
     "data": {
      "image/png": "[encoded data removed]",
      "text/plain": [
       "<Figure size 432x288 with 1 Axes>"
      ]
     },
     "metadata": {
      "needs_background": "light"
     },
     "output_type": "display_data"
    }
   ],
   "source": [
    "# Generate a scatter plot of % lower status vs. value\n",
    "lowerStatus = data.iloc[:,11]\n",
    "value = data.iloc[:,13]\n",
    "\n",
    "plt.scatter(lowerStatus, value, color = '#1F2D16')\n",
    "\n",
    "#label\n",
    "plt.title('% Lower Status vs Value')\n",
    "plt.xlabel('Status')\n",
    "plt.ylabel('Value')\n",
    "plt.savefig(\"output/StatusVsValue.png\")\n",
    "plt.show()"
   ]
  },
  {
   "cell_type": "code",
   "execution_count": null,
   "metadata": {},
   "outputs": [],
   "source": []
  },
  {
   "cell_type": "markdown",
   "metadata": {},
   "source": [
    "Matts Code Here"
   ]
  },
  {
   "cell_type": "code",
   "execution_count": 31,
   "metadata": {},
   "outputs": [],
   "source": [
    "# Import necessary modules\n",
    "from sklearn.model_selection import train_test_split\n",
    "from sklearn.metrics import mean_squared_error\n",
    "from math import sqrt\n",
    "\n",
    "# Keras specific\n",
    "import keras\n",
    "from keras.models import Sequential\n",
    "from keras.layers import Dense"
   ]
  },
  {
   "cell_type": "code",
   "execution_count": 32,
   "metadata": {},
   "outputs": [
    {
     "name": "stdout",
     "output_type": "stream",
     "text": [
      "(506, 12) (506, 1)\n"
     ]
    }
   ],
   "source": [
    "# Assign the data to X and y\n",
    "X = data[['Crime Rate','Residential Land Zone','Non-retail business acres','Charles River Variable','Nitric Oxide Concentration',\n",
    "             'Rooms','Age','Distance','Accessiblity to Highway','Tax Rate','Pupil-Teacher ratio','% lower status']]\n",
    "y = data['Median Value'].values.reshape(-1,1)\n",
    "print(X.shape, y.shape)"
   ]
  },
  {
   "cell_type": "code",
   "execution_count": 33,
   "metadata": {},
   "outputs": [
    {
     "name": "stdout",
     "output_type": "stream",
     "text": [
      "(379, 12)\n",
      "(127, 12)\n"
     ]
    }
   ],
   "source": [
    "# Use train_test_split to create training and testing data\n",
    "from sklearn.model_selection import train_test_split\n",
    "\n",
    "X_train, X_test, y_train, y_test = train_test_split(X, y, random_state=150)\n",
    "print(X_train.shape)\n",
    "print(X_test.shape)"
   ]
  },
  {
   "cell_type": "code",
   "execution_count": 34,
   "metadata": {},
   "outputs": [],
   "source": [
    "#Creating the model\n",
    "model = Sequential()\n",
    "model.add(Dense(36, input_dim=12, activation= \"relu\"))\n",
    "model.add(Dense(1, activation='linear'))"
   ]
  },
  {
   "cell_type": "code",
   "execution_count": 35,
   "metadata": {},
   "outputs": [
    {
     "name": "stdout",
     "output_type": "stream",
     "text": [
      "WARNING:tensorflow:From C:\\Users\\rache\\anaconda3\\envs\\PythonData\\lib\\site-packages\\keras\\backend\\tensorflow_backend.py:422: The name tf.global_variables is deprecated. Please use tf.compat.v1.global_variables instead.\n",
      "\n",
      "Epoch 1/20\n",
      "379/379 [==============================] - 0s 357us/step - loss: 3230.6225 - mean_squared_error: 3230.6228\n",
      "Epoch 2/20\n",
      "379/379 [==============================] - 0s 34us/step - loss: 559.9810 - mean_squared_error: 559.9810\n",
      "Epoch 3/20\n",
      "379/379 [==============================] - 0s 37us/step - loss: 248.7598 - mean_squared_error: 248.7599\n",
      "Epoch 4/20\n",
      "379/379 [==============================] - 0s 37us/step - loss: 266.9189 - mean_squared_error: 266.9189\n",
      "Epoch 5/20\n",
      "379/379 [==============================] - 0s 34us/step - loss: 200.9896 - mean_squared_error: 200.9897\n",
      "Epoch 6/20\n",
      "379/379 [==============================] - 0s 40us/step - loss: 187.3520 - mean_squared_error: 187.3520\n",
      "Epoch 7/20\n",
      "379/379 [==============================] - 0s 34us/step - loss: 174.0801 - mean_squared_error: 174.0801\n",
      "Epoch 8/20\n",
      "379/379 [==============================] - 0s 32us/step - loss: 164.9507 - mean_squared_error: 164.9507\n",
      "Epoch 9/20\n",
      "379/379 [==============================] - 0s 34us/step - loss: 157.0538 - mean_squared_error: 157.0538\n",
      "Epoch 10/20\n",
      "379/379 [==============================] - 0s 32us/step - loss: 150.2915 - mean_squared_error: 150.2915\n",
      "Epoch 11/20\n",
      "379/379 [==============================] - 0s 34us/step - loss: 143.8370 - mean_squared_error: 143.8370\n",
      "Epoch 12/20\n",
      "379/379 [==============================] - 0s 32us/step - loss: 138.3848 - mean_squared_error: 138.3848\n",
      "Epoch 13/20\n",
      "379/379 [==============================] - 0s 32us/step - loss: 133.5520 - mean_squared_error: 133.5520\n",
      "Epoch 14/20\n",
      "379/379 [==============================] - 0s 32us/step - loss: 128.8943 - mean_squared_error: 128.8943\n",
      "Epoch 15/20\n",
      "379/379 [==============================] - 0s 34us/step - loss: 124.9939 - mean_squared_error: 124.9939\n",
      "Epoch 16/20\n",
      "379/379 [==============================] - 0s 37us/step - loss: 121.4475 - mean_squared_error: 121.4475\n",
      "Epoch 17/20\n",
      "379/379 [==============================] - 0s 32us/step - loss: 118.9744 - mean_squared_error: 118.9744\n",
      "Epoch 18/20\n",
      "379/379 [==============================] - 0s 34us/step - loss: 115.6679 - mean_squared_error: 115.6679\n",
      "Epoch 19/20\n",
      "379/379 [==============================] - 0s 34us/step - loss: 112.5058 - mean_squared_error: 112.5059\n",
      "Epoch 20/20\n",
      "379/379 [==============================] - 0s 30us/step - loss: 109.8476 - mean_squared_error: 109.8476\n"
     ]
    },
    {
     "data": {
      "text/plain": [
       "<keras.callbacks.callbacks.History at 0x2318117e128>"
      ]
     },
     "execution_count": 35,
     "metadata": {},
     "output_type": "execute_result"
    }
   ],
   "source": [
    "model.compile(loss= \"mean_squared_error\" , optimizer=\"adam\", metrics=[\"mean_squared_error\"])\n",
    "model.fit(X_train, y_train, epochs=20)"
   ]
  },
  {
   "cell_type": "code",
   "execution_count": 36,
   "metadata": {},
   "outputs": [],
   "source": [
    "#pred_train= model.predict(X_train)\n",
    "#print(np.sqrt(mean_squared_error(y_train,pred_train)))\n",
    "\n",
    "#pred= model.predict(X_test)\n",
    "#print(np.sqrt(mean_squared_error(y_test,pred))) "
   ]
  },
  {
   "cell_type": "code",
   "execution_count": 37,
   "metadata": {},
   "outputs": [
    {
     "data": {
      "text/plain": [
       "[65.4756770096426, 65.47566986083984]"
      ]
     },
     "execution_count": 37,
     "metadata": {},
     "output_type": "execute_result"
    }
   ],
   "source": [
    "model.evaluate(X_test,y_test, verbose=2)"
   ]
  },
  {
   "cell_type": "markdown",
   "metadata": {},
   "source": [
    "With a MSE of 78 our model is clearly not currently very reliable or accurate. One of the first things that could be causing this is the fluctuations in data that we are currently using. As such we need to standardize our data so that everything is being compared equally. "
   ]
  },
  {
   "cell_type": "code",
   "execution_count": 38,
   "metadata": {},
   "outputs": [],
   "source": [
    "from sklearn.preprocessing import StandardScaler"
   ]
  },
  {
   "cell_type": "code",
   "execution_count": 39,
   "metadata": {},
   "outputs": [],
   "source": [
    "X_scaler = StandardScaler().fit(X_train)\n",
    "y_scaler = StandardScaler().fit(y_train)"
   ]
  },
  {
   "cell_type": "code",
   "execution_count": 40,
   "metadata": {},
   "outputs": [],
   "source": [
    "X_train_scaled = X_scaler.transform(X_train)\n",
    "X_test_scaled = X_scaler.transform(X_test)\n",
    "y_train_scaled = y_scaler.transform(y_train)\n",
    "y_test_scaled = y_scaler.transform(y_test)"
   ]
  },
  {
   "cell_type": "code",
   "execution_count": 41,
   "metadata": {},
   "outputs": [
    {
     "name": "stdout",
     "output_type": "stream",
     "text": [
      "Epoch 1/20\n",
      "379/379 [==============================] - 0s 256us/step - loss: 863.4299 - mean_squared_error: 863.4300\n",
      "Epoch 2/20\n",
      "379/379 [==============================] - 0s 32us/step - loss: 284.6634 - mean_squared_error: 284.6634\n",
      "Epoch 3/20\n",
      "379/379 [==============================] - 0s 32us/step - loss: 264.6086 - mean_squared_error: 264.6086\n",
      "Epoch 4/20\n",
      "379/379 [==============================] - 0s 40us/step - loss: 206.4442 - mean_squared_error: 206.4442\n",
      "Epoch 5/20\n",
      "379/379 [==============================] - 0s 30us/step - loss: 192.6949 - mean_squared_error: 192.6949\n",
      "Epoch 6/20\n",
      "379/379 [==============================] - 0s 34us/step - loss: 176.4350 - mean_squared_error: 176.4350\n",
      "Epoch 7/20\n",
      "379/379 [==============================] - 0s 34us/step - loss: 165.7977 - mean_squared_error: 165.7977\n",
      "Epoch 8/20\n",
      "379/379 [==============================] - 0s 36us/step - loss: 156.5614 - mean_squared_error: 156.5614\n",
      "Epoch 9/20\n",
      "379/379 [==============================] - 0s 34us/step - loss: 149.3757 - mean_squared_error: 149.3757\n",
      "Epoch 10/20\n",
      "379/379 [==============================] - 0s 40us/step - loss: 142.6727 - mean_squared_error: 142.6727\n",
      "Epoch 11/20\n",
      "379/379 [==============================] - 0s 37us/step - loss: 136.5023 - mean_squared_error: 136.5023\n",
      "Epoch 12/20\n",
      "379/379 [==============================] - 0s 40us/step - loss: 133.9237 - mean_squared_error: 133.9237\n",
      "Epoch 13/20\n",
      "379/379 [==============================] - 0s 37us/step - loss: 129.9329 - mean_squared_error: 129.9329\n",
      "Epoch 14/20\n",
      "379/379 [==============================] - 0s 40us/step - loss: 125.9379 - mean_squared_error: 125.9379\n",
      "Epoch 15/20\n",
      "379/379 [==============================] - 0s 37us/step - loss: 123.0351 - mean_squared_error: 123.0351\n",
      "Epoch 16/20\n",
      "379/379 [==============================] - 0s 34us/step - loss: 119.8091 - mean_squared_error: 119.8091\n",
      "Epoch 17/20\n",
      "379/379 [==============================] - 0s 37us/step - loss: 117.6180 - mean_squared_error: 117.6180\n",
      "Epoch 18/20\n",
      "379/379 [==============================] - 0s 40us/step - loss: 116.2517 - mean_squared_error: 116.2517\n",
      "Epoch 19/20\n",
      "379/379 [==============================] - 0s 37us/step - loss: 113.1116 - mean_squared_error: 113.1116\n",
      "Epoch 20/20\n",
      "379/379 [==============================] - 0s 37us/step - loss: 111.5286 - mean_squared_error: 111.5286\n"
     ]
    },
    {
     "data": {
      "text/plain": [
       "[0.591841368694005, 0.5918413400650024]"
      ]
     },
     "execution_count": 41,
     "metadata": {},
     "output_type": "execute_result"
    }
   ],
   "source": [
    "model_scaled = Sequential()\n",
    "model_scaled.add(Dense(36, input_dim=12, activation= \"relu\"))\n",
    "model_scaled.add(Dense(1, activation='linear'))\n",
    "\n",
    "model_scaled.compile(loss= \"mean_squared_error\" , optimizer=\"adam\", metrics=[\"mean_squared_error\"])\n",
    "model_scaled.fit(X_train, y_train, epochs=20)\n",
    "\n",
    "model_scaled.evaluate(X_test_scaled,y_test_scaled, verbose=2)\n"
   ]
  },
  {
   "cell_type": "markdown",
   "metadata": {},
   "source": [
    "While the standardized data made a huge impact on improving the performance of our model, we still thought it could be further improved. In order to try making it more accurate we decided to drop some columns that had low correlation to the median household income to see if that would make a difference."
   ]
  },
  {
   "cell_type": "code",
   "execution_count": 42,
   "metadata": {},
   "outputs": [
    {
     "data": {
      "text/html": [
       "<div>\n",
       "<style scoped>\n",
       "    .dataframe tbody tr th:only-of-type {\n",
       "        vertical-align: middle;\n",
       "    }\n",
       "\n",
       "    .dataframe tbody tr th {\n",
       "        vertical-align: top;\n",
       "    }\n",
       "\n",
       "    .dataframe thead th {\n",
       "        text-align: right;\n",
       "    }\n",
       "</style>\n",
       "<table border=\"1\" class=\"dataframe\">\n",
       "  <thead>\n",
       "    <tr style=\"text-align: right;\">\n",
       "      <th></th>\n",
       "      <th>Crime Rate</th>\n",
       "      <th>Residential Land Zone</th>\n",
       "      <th>Non-retail business acres</th>\n",
       "      <th>Nitric Oxide Concentration</th>\n",
       "      <th>Rooms</th>\n",
       "      <th>Age</th>\n",
       "      <th>Accessiblity to Highway</th>\n",
       "      <th>Tax Rate</th>\n",
       "      <th>Pupil-Teacher ratio</th>\n",
       "      <th>% lower status</th>\n",
       "      <th>Median Value</th>\n",
       "      <th>Home Value</th>\n",
       "    </tr>\n",
       "  </thead>\n",
       "  <tbody>\n",
       "    <tr>\n",
       "      <th>0</th>\n",
       "      <td>0.00632</td>\n",
       "      <td>18.0</td>\n",
       "      <td>2.31</td>\n",
       "      <td>0.538</td>\n",
       "      <td>6.575</td>\n",
       "      <td>65.2</td>\n",
       "      <td>1.0</td>\n",
       "      <td>296.0</td>\n",
       "      <td>15.3</td>\n",
       "      <td>4.98</td>\n",
       "      <td>24.0</td>\n",
       "      <td>24000.0</td>\n",
       "    </tr>\n",
       "    <tr>\n",
       "      <th>1</th>\n",
       "      <td>0.02731</td>\n",
       "      <td>0.0</td>\n",
       "      <td>7.07</td>\n",
       "      <td>0.469</td>\n",
       "      <td>6.421</td>\n",
       "      <td>78.9</td>\n",
       "      <td>2.0</td>\n",
       "      <td>242.0</td>\n",
       "      <td>17.8</td>\n",
       "      <td>9.14</td>\n",
       "      <td>21.6</td>\n",
       "      <td>21600.0</td>\n",
       "    </tr>\n",
       "    <tr>\n",
       "      <th>2</th>\n",
       "      <td>0.02729</td>\n",
       "      <td>0.0</td>\n",
       "      <td>7.07</td>\n",
       "      <td>0.469</td>\n",
       "      <td>7.185</td>\n",
       "      <td>61.1</td>\n",
       "      <td>2.0</td>\n",
       "      <td>242.0</td>\n",
       "      <td>17.8</td>\n",
       "      <td>4.03</td>\n",
       "      <td>34.7</td>\n",
       "      <td>34700.0</td>\n",
       "    </tr>\n",
       "    <tr>\n",
       "      <th>3</th>\n",
       "      <td>0.03237</td>\n",
       "      <td>0.0</td>\n",
       "      <td>2.18</td>\n",
       "      <td>0.458</td>\n",
       "      <td>6.998</td>\n",
       "      <td>45.8</td>\n",
       "      <td>3.0</td>\n",
       "      <td>222.0</td>\n",
       "      <td>18.7</td>\n",
       "      <td>2.94</td>\n",
       "      <td>33.4</td>\n",
       "      <td>33400.0</td>\n",
       "    </tr>\n",
       "    <tr>\n",
       "      <th>4</th>\n",
       "      <td>0.06905</td>\n",
       "      <td>0.0</td>\n",
       "      <td>2.18</td>\n",
       "      <td>0.458</td>\n",
       "      <td>7.147</td>\n",
       "      <td>54.2</td>\n",
       "      <td>3.0</td>\n",
       "      <td>222.0</td>\n",
       "      <td>18.7</td>\n",
       "      <td>11.43</td>\n",
       "      <td>36.2</td>\n",
       "      <td>36200.0</td>\n",
       "    </tr>\n",
       "  </tbody>\n",
       "</table>\n",
       "</div>"
      ],
      "text/plain": [
       "   Crime Rate  Residential Land Zone  Non-retail business acres  \\\n",
       "0     0.00632                   18.0                       2.31   \n",
       "1     0.02731                    0.0                       7.07   \n",
       "2     0.02729                    0.0                       7.07   \n",
       "3     0.03237                    0.0                       2.18   \n",
       "4     0.06905                    0.0                       2.18   \n",
       "\n",
       "   Nitric Oxide Concentration  Rooms   Age  Accessiblity to Highway  Tax Rate  \\\n",
       "0                       0.538  6.575  65.2                      1.0     296.0   \n",
       "1                       0.469  6.421  78.9                      2.0     242.0   \n",
       "2                       0.469  7.185  61.1                      2.0     242.0   \n",
       "3                       0.458  6.998  45.8                      3.0     222.0   \n",
       "4                       0.458  7.147  54.2                      3.0     222.0   \n",
       "\n",
       "   Pupil-Teacher ratio  % lower status  Median Value  Home Value  \n",
       "0                 15.3            4.98          24.0     24000.0  \n",
       "1                 17.8            9.14          21.6     21600.0  \n",
       "2                 17.8            4.03          34.7     34700.0  \n",
       "3                 18.7            2.94          33.4     33400.0  \n",
       "4                 18.7           11.43          36.2     36200.0  "
      ]
     },
     "execution_count": 42,
     "metadata": {},
     "output_type": "execute_result"
    }
   ],
   "source": [
    "manipulated_data = data.copy()\n",
    "\n",
    "manipulated_data = manipulated_data.drop([\"Charles River Variable\", 'Distance'],axis=1)\n",
    "manipulated_data.head()"
   ]
  },
  {
   "cell_type": "code",
   "execution_count": 43,
   "metadata": {},
   "outputs": [],
   "source": [
    "X_manipulated = data[['Crime Rate','Residential Land Zone','Non-retail business acres','Nitric Oxide Concentration',\n",
    "             'Rooms','Age','Accessiblity to Highway','Tax Rate','Pupil-Teacher ratio','% lower status']]\n",
    "y_manipulated = data['Median Value'].values.reshape(-1,1)\n",
    "#print(X.shape, y.shape)\n",
    "\n",
    "X_train_manipulated, X_test_manipulated, y_train_manipulated, y_test_manipulated = train_test_split(X_manipulated, y_manipulated, random_state=150)\n",
    "#print(X_train.shape)\n",
    "#print(X_test.shape)"
   ]
  },
  {
   "cell_type": "code",
   "execution_count": 44,
   "metadata": {},
   "outputs": [
    {
     "name": "stdout",
     "output_type": "stream",
     "text": [
      "Epoch 1/20\n",
      "379/379 [==============================] - 0s 266us/step - loss: 178.7447 - mean_squared_error: 178.7447\n",
      "Epoch 2/20\n",
      "379/379 [==============================] - 0s 40us/step - loss: 145.3223 - mean_squared_error: 145.3224\n",
      "Epoch 3/20\n",
      "379/379 [==============================] - 0s 44us/step - loss: 124.6072 - mean_squared_error: 124.6073\n",
      "Epoch 4/20\n",
      "379/379 [==============================] - 0s 40us/step - loss: 112.5777 - mean_squared_error: 112.5778\n",
      "Epoch 5/20\n",
      "379/379 [==============================] - 0s 37us/step - loss: 103.9822 - mean_squared_error: 103.9822\n",
      "Epoch 6/20\n",
      "379/379 [==============================] - 0s 38us/step - loss: 97.6314 - mean_squared_error: 97.6314\n",
      "Epoch 7/20\n",
      "379/379 [==============================] - 0s 45us/step - loss: 94.1597 - mean_squared_error: 94.1598\n",
      "Epoch 8/20\n",
      "379/379 [==============================] - 0s 45us/step - loss: 88.5901 - mean_squared_error: 88.5901\n",
      "Epoch 9/20\n",
      "379/379 [==============================] - 0s 45us/step - loss: 85.8050 - mean_squared_error: 85.8050\n",
      "Epoch 10/20\n",
      "379/379 [==============================] - 0s 42us/step - loss: 83.0930 - mean_squared_error: 83.0930\n",
      "Epoch 11/20\n",
      "379/379 [==============================] - 0s 44us/step - loss: 80.8128 - mean_squared_error: 80.8128\n",
      "Epoch 12/20\n",
      "379/379 [==============================] - 0s 50us/step - loss: 78.7547 - mean_squared_error: 78.7547\n",
      "Epoch 13/20\n",
      "379/379 [==============================] - 0s 48us/step - loss: 77.2057 - mean_squared_error: 77.2057\n",
      "Epoch 14/20\n",
      "379/379 [==============================] - 0s 45us/step - loss: 77.1693 - mean_squared_error: 77.1693\n",
      "Epoch 15/20\n",
      "379/379 [==============================] - 0s 48us/step - loss: 74.4670 - mean_squared_error: 74.4670\n",
      "Epoch 16/20\n",
      "379/379 [==============================] - 0s 40us/step - loss: 78.5000 - mean_squared_error: 78.5000\n",
      "Epoch 17/20\n",
      "379/379 [==============================] - 0s 45us/step - loss: 70.8639 - mean_squared_error: 70.8639\n",
      "Epoch 18/20\n",
      "379/379 [==============================] - 0s 34us/step - loss: 69.5524 - mean_squared_error: 69.5524\n",
      "Epoch 19/20\n",
      "379/379 [==============================] - 0s 50us/step - loss: 68.6246 - mean_squared_error: 68.6246\n",
      "Epoch 20/20\n",
      "379/379 [==============================] - 0s 45us/step - loss: 67.1402 - mean_squared_error: 67.1402\n"
     ]
    },
    {
     "data": {
      "text/plain": [
       "[1.171555889873054, 1.1715558767318726]"
      ]
     },
     "execution_count": 44,
     "metadata": {},
     "output_type": "execute_result"
    }
   ],
   "source": [
    "X_scaler_manipulated = StandardScaler().fit(X_train_manipulated)\n",
    "y_scaler_manipulated = StandardScaler().fit(y_train_manipulated)\n",
    "\n",
    "X_train_scaled_manipulated = X_scaler_manipulated.transform(X_train_manipulated)\n",
    "X_test_scaled_manipulated = X_scaler_manipulated.transform(X_test_manipulated)\n",
    "y_train_scaled_manipulated = y_scaler_manipulated.transform(y_train_manipulated)\n",
    "y_test_scaled_manipulated = y_scaler_manipulated.transform(y_test_manipulated)\n",
    "\n",
    "model_scaled = Sequential()\n",
    "model_scaled.add(Dense(30, input_dim=10, activation= \"relu\"))\n",
    "model_scaled.add(Dense(1, activation='linear'))\n",
    "\n",
    "model_scaled.compile(loss= \"mean_squared_error\" , optimizer=\"adam\", metrics=[\"mean_squared_error\"])\n",
    "model_scaled.fit(X_train_manipulated, y_train_manipulated, epochs=20)\n",
    "\n",
    "model_scaled.evaluate(X_test_scaled_manipulated,y_test_scaled_manipulated, verbose=2)"
   ]
  },
  {
   "cell_type": "markdown",
   "metadata": {},
   "source": [
    "Although the variables we removed had low correlation to the median value, removing them significantly worsened our data set. In order to see if this held true we tried selecting the 6 criteria with the highest corelation to see if it would improve, or worsen the performance of the model again."
   ]
  },
  {
   "cell_type": "code",
   "execution_count": 45,
   "metadata": {},
   "outputs": [],
   "source": [
    "X_manipulated = data[['Non-retail business acres','Nitric Oxide Concentration',\n",
    "             'Rooms','Tax Rate','Pupil-Teacher ratio','% lower status']]\n",
    "y_manipulated = data['Median Value'].values.reshape(-1,1)\n",
    "#print(X.shape, y.shape)\n",
    "\n",
    "X_train_manipulated, X_test_manipulated, y_train_manipulated, y_test_manipulated = train_test_split(X_manipulated, y_manipulated, random_state=150)\n",
    "#print(X_train.shape)\n",
    "#print(X_test.shape)"
   ]
  },
  {
   "cell_type": "code",
   "execution_count": 46,
   "metadata": {},
   "outputs": [
    {
     "name": "stdout",
     "output_type": "stream",
     "text": [
      "Epoch 1/20\n",
      "379/379 [==============================] - 0s 283us/step - loss: 3032.1429 - mean_squared_error: 3032.1431\n",
      "Epoch 2/20\n",
      "379/379 [==============================] - 0s 34us/step - loss: 379.0030 - mean_squared_error: 379.0030\n",
      "Epoch 3/20\n",
      "379/379 [==============================] - 0s 31us/step - loss: 391.0841 - mean_squared_error: 391.0840\n",
      "Epoch 4/20\n",
      "379/379 [==============================] - 0s 45us/step - loss: 279.6683 - mean_squared_error: 279.6683\n",
      "Epoch 5/20\n",
      "379/379 [==============================] - 0s 34us/step - loss: 251.0362 - mean_squared_error: 251.0363\n",
      "Epoch 6/20\n",
      "379/379 [==============================] - 0s 37us/step - loss: 242.7972 - mean_squared_error: 242.7972\n",
      "Epoch 7/20\n",
      "379/379 [==============================] - 0s 32us/step - loss: 238.7213 - mean_squared_error: 238.7213\n",
      "Epoch 8/20\n",
      "379/379 [==============================] - 0s 40us/step - loss: 235.5538 - mean_squared_error: 235.5538\n",
      "Epoch 9/20\n",
      "379/379 [==============================] - 0s 34us/step - loss: 231.7977 - mean_squared_error: 231.7978\n",
      "Epoch 10/20\n",
      "379/379 [==============================] - 0s 32us/step - loss: 228.3292 - mean_squared_error: 228.3292\n",
      "Epoch 11/20\n",
      "379/379 [==============================] - 0s 37us/step - loss: 224.7537 - mean_squared_error: 224.7537\n",
      "Epoch 12/20\n",
      "379/379 [==============================] - 0s 37us/step - loss: 222.4299 - mean_squared_error: 222.4299\n",
      "Epoch 13/20\n",
      "379/379 [==============================] - 0s 34us/step - loss: 217.5107 - mean_squared_error: 217.5107\n",
      "Epoch 14/20\n",
      "379/379 [==============================] - 0s 37us/step - loss: 213.9112 - mean_squared_error: 213.9112\n",
      "Epoch 15/20\n",
      "379/379 [==============================] - 0s 32us/step - loss: 210.0938 - mean_squared_error: 210.0938\n",
      "Epoch 16/20\n",
      "379/379 [==============================] - 0s 37us/step - loss: 206.5528 - mean_squared_error: 206.5527\n",
      "Epoch 17/20\n",
      "379/379 [==============================] - 0s 37us/step - loss: 202.2590 - mean_squared_error: 202.2590\n",
      "Epoch 18/20\n",
      "379/379 [==============================] - 0s 42us/step - loss: 198.5483 - mean_squared_error: 198.5483\n",
      "Epoch 19/20\n",
      "379/379 [==============================] - 0s 37us/step - loss: 194.4389 - mean_squared_error: 194.4389\n",
      "Epoch 20/20\n",
      "379/379 [==============================] - 0s 34us/step - loss: 190.7311 - mean_squared_error: 190.7312\n"
     ]
    },
    {
     "data": {
      "text/plain": [
       "[1.4503813925690539, 1.4503813982009888]"
      ]
     },
     "execution_count": 46,
     "metadata": {},
     "output_type": "execute_result"
    }
   ],
   "source": [
    "X_scaler_manipulated = StandardScaler().fit(X_train_manipulated)\n",
    "y_scaler_manipulated = StandardScaler().fit(y_train_manipulated)\n",
    "\n",
    "X_train_scaled_manipulated = X_scaler_manipulated.transform(X_train_manipulated)\n",
    "X_test_scaled_manipulated = X_scaler_manipulated.transform(X_test_manipulated)\n",
    "y_train_scaled_manipulated = y_scaler_manipulated.transform(y_train_manipulated)\n",
    "y_test_scaled_manipulated = y_scaler_manipulated.transform(y_test_manipulated)\n",
    "\n",
    "model_scaled = Sequential()\n",
    "model_scaled.add(Dense(30, input_dim=6, activation= \"relu\"))\n",
    "model_scaled.add(Dense(1, activation='linear'))\n",
    "\n",
    "model_scaled.compile(loss= \"mean_squared_error\" , optimizer=\"adam\", metrics=[\"mean_squared_error\"])\n",
    "model_scaled.fit(X_train_manipulated, y_train_manipulated, epochs=20)\n",
    "\n",
    "model_scaled.evaluate(X_test_scaled_manipulated,y_test_scaled_manipulated, verbose=2)"
   ]
  },
  {
   "cell_type": "markdown",
   "metadata": {},
   "source": [
    "While the models performance did drop, it did not drop as much as anticipated. Overall removing the data from the dataset has had a consistently negative impact on the performance of the model."
   ]
  },
  {
   "cell_type": "code",
   "execution_count": null,
   "metadata": {},
   "outputs": [],
   "source": []
  }
 ],
 "metadata": {
  "celltoolbar": "Raw Cell Format",
  "kernelspec": {
   "display_name": "Python 3",
   "language": "python",
   "name": "python3"
  },
  "language_info": {
   "codemirror_mode": {
    "name": "ipython",
    "version": 3
   },
   "file_extension": ".py",
   "mimetype": "text/x-python",
   "name": "python",
   "nbconvert_exporter": "python",
   "pygments_lexer": "ipython3",
   "version": "3.6.10"
  }
 },
 "nbformat": 4,
 "nbformat_minor": 4
}
